{
 "cells": [
  {
   "cell_type": "markdown",
   "id": "282a239d",
   "metadata": {},
   "source": [
    "# Lab2 - Data Collection and Pre-processing"
   ]
  },
  {
   "cell_type": "markdown",
   "id": "0e18b64f",
   "metadata": {},
   "source": [
    "## Done by Eris Leksi (9067882)"
   ]
  },
  {
   "cell_type": "markdown",
   "id": "0b2c97ca",
   "metadata": {},
   "source": [
    "Hello! I am Eris and this is my Lab2 - data Collection and Pre-processing jupyter notebook. What are we going to do now in here? Nice question. Now we are going to dive into the data-collection and the pre-processing steps of machine learning. After chosing 2 datasets from the e-commerce and us government sectors, we have to load, clean and summarize them. Let's start!"
   ]
  },
  {
   "cell_type": "markdown",
   "id": "ab2d0641",
   "metadata": {},
   "source": [
    "Dataset 1: Sample - Superstore Sales\n",
    "\n",
    "Type 1: XLS\n",
    "\n",
    "Link 1: https://community.tableau.com/s/question/0D54T00000CWeX8SAL/sample-superstore-sales-excelxls\n",
    "\n",
    "Description 1: A list of 9994 Superstole Sales accross the United States of America. It has 21 features including order_id, date, customer_id and also the type of purcased product and many more."
   ]
  },
  {
   "cell_type": "markdown",
   "id": "5e0f6848",
   "metadata": {},
   "source": [
    "Dataset 2: United States Cities Database\n",
    "\n",
    "Type 2: CSV\n",
    "\n",
    "Link 2: https://simplemaps.com/data/us-cities\n",
    "\n",
    "Description 2 (from the source): \n",
    "\n",
    "Up-to-date: Data updated as of January 23, 2025.\n",
    "\n",
    "Comprehensive: Over 109,000 cities and towns from all 50 states, DC, Puerto Rico and the US Virgin Islands.\n",
    "\n",
    "Useful fields: From latitude and longitude to household income.\n",
    "\n",
    "Accurate: Aggregated and cleaned from official sources.\n",
    "\n"
   ]
  },
  {
   "cell_type": "markdown",
   "id": "fe034df6",
   "metadata": {},
   "source": [
    "## 0. Importing the libraries"
   ]
  },
  {
   "cell_type": "code",
   "execution_count": 23,
   "id": "bea7caef",
   "metadata": {},
   "outputs": [],
   "source": [
    "import pandas as pd\n",
    "import numpy as np\n",
    "import matplotlib.pyplot as plt\n",
    "import seaborn as sns \n",
    "from datetime import datetime\n",
    "from collections import defaultdict\n",
    "import json\n",
    "import pyarrow.parquet as pq\n",
    "import pyarrow as pa\n",
    "import tabulate as tt"
   ]
  },
  {
   "cell_type": "markdown",
   "id": "4286d518",
   "metadata": {},
   "source": [
    "## 1. Hello Data!"
   ]
  },
  {
   "cell_type": "code",
   "execution_count": null,
   "id": "ce221d3b",
   "metadata": {},
   "outputs": [
    {
     "name": "stdout",
     "output_type": "stream",
     "text": [
      "First 3 rows of df_cities:\n",
      "          city   city_ascii state_id  state_name  county_fips  county_name  \\\n",
      "0     New York     New York       NY    New York        36081       Queens   \n",
      "1  Los Angeles  Los Angeles       CA  California         6037  Los Angeles   \n",
      "2      Chicago      Chicago       IL    Illinois        17031         Cook   \n",
      "\n",
      "       lat       lng  population  density source  military  incorporated  \\\n",
      "0  40.6943  -73.9249    18832416  10943.7  shape     False          True   \n",
      "1  34.1141 -118.4068    11885717   3165.8  shape     False          True   \n",
      "2  41.8375  -87.6866     8489066   4590.3  shape     False          True   \n",
      "\n",
      "              timezone  ranking  \\\n",
      "0     America/New_York        1   \n",
      "1  America/Los_Angeles        1   \n",
      "2      America/Chicago        1   \n",
      "\n",
      "                                                zips          id  \n",
      "0  11229 11226 11225 11224 11223 11221 11220 1138...  1840034016  \n",
      "1  90291 90293 90292 91316 91311 90035 90034 9003...  1840020491  \n",
      "2  60018 60649 60641 60640 60643 60642 60645 6064...  1840000494  \n",
      "*----------*----------*----------*----------*-----------*-----------*\n",
      "df_cities table shape:\n",
      "(31254, 17)\n",
      "*----------*----------*----------*----------*-----------*-----------*\n",
      "df_cities columns description:\n",
      "        county_fips           lat           lng    population       density  \\\n",
      "count  31254.000000  31254.000000  31254.000000  3.125400e+04  31254.000000   \n",
      "mean   29960.619121     38.629765    -92.799420  1.287201e+04    465.459157   \n",
      "std    15819.715936      5.845466     15.650594  1.791285e+05    724.851629   \n",
      "min     1001.000000     17.955900   -176.629500  0.000000e+00      0.000000   \n",
      "25%    17201.000000     35.188775    -98.233400  2.702500e+02     89.000000   \n",
      "50%    30029.000000     39.348600    -90.037350  9.480000e+02    246.100000   \n",
      "75%    42045.000000     41.708475    -81.763825  3.761250e+03    547.600000   \n",
      "max    72153.000000     71.272700    174.111000  1.883242e+07  28653.900000   \n",
      "\n",
      "            ranking            id  \n",
      "count  31254.000000  3.125400e+04  \n",
      "mean       2.993729  1.838135e+09  \n",
      "std        0.311306  1.982057e+07  \n",
      "min        1.000000  1.630024e+09  \n",
      "25%        3.000000  1.840008e+09  \n",
      "50%        3.000000  1.840016e+09  \n",
      "75%        3.000000  1.840025e+09  \n",
      "max        5.000000  1.840153e+09  \n",
      "*----------*----------*----------*----------*-----------*-----------*\n",
      "df_cities rows description:\n",
      "<class 'pandas.core.frame.DataFrame'>\n",
      "RangeIndex: 31254 entries, 0 to 31253\n",
      "Data columns (total 17 columns):\n",
      " #   Column        Non-Null Count  Dtype  \n",
      "---  ------        --------------  -----  \n",
      " 0   city          31254 non-null  object \n",
      " 1   city_ascii    31254 non-null  object \n",
      " 2   state_id      31254 non-null  object \n",
      " 3   state_name    31254 non-null  object \n",
      " 4   county_fips   31254 non-null  int64  \n",
      " 5   county_name   31254 non-null  object \n",
      " 6   lat           31254 non-null  float64\n",
      " 7   lng           31254 non-null  float64\n",
      " 8   population    31254 non-null  int64  \n",
      " 9   density       31254 non-null  float64\n",
      " 10  source        31254 non-null  object \n",
      " 11  military      31254 non-null  bool   \n",
      " 12  incorporated  31254 non-null  bool   \n",
      " 13  timezone      31254 non-null  object \n",
      " 14  ranking       31254 non-null  int64  \n",
      " 15  zips          31252 non-null  object \n",
      " 16  id            31254 non-null  int64  \n",
      "dtypes: bool(2), float64(3), int64(4), object(8)\n",
      "memory usage: 3.6+ MB\n",
      "None\n",
      "First 3 rows of df_sales:\n",
      "   Row ID        Order ID Order Date  Ship Date     Ship Mode Customer ID  \\\n",
      "0       1  CA-2016-152156 2016-11-08 2016-11-11  Second Class    CG-12520   \n",
      "1       2  CA-2016-152156 2016-11-08 2016-11-11  Second Class    CG-12520   \n",
      "2       3  CA-2016-138688 2016-06-12 2016-06-16  Second Class    DV-13045   \n",
      "\n",
      "     Customer Name    Segment        Country         City  ... Postal Code  \\\n",
      "0      Claire Gute   Consumer  United States    Henderson  ...       42420   \n",
      "1      Claire Gute   Consumer  United States    Henderson  ...       42420   \n",
      "2  Darrin Van Huff  Corporate  United States  Los Angeles  ...       90036   \n",
      "\n",
      "   Region       Product ID         Category Sub-Category  \\\n",
      "0   South  FUR-BO-10001798        Furniture    Bookcases   \n",
      "1   South  FUR-CH-10000454        Furniture       Chairs   \n",
      "2    West  OFF-LA-10000240  Office Supplies       Labels   \n",
      "\n",
      "                                        Product Name   Sales  Quantity  \\\n",
      "0                  Bush Somerset Collection Bookcase  261.96         2   \n",
      "1  Hon Deluxe Fabric Upholstered Stacking Chairs,...  731.94         3   \n",
      "2  Self-Adhesive Address Labels for Typewriters b...   14.62         2   \n",
      "\n",
      "   Discount    Profit  \n",
      "0       0.0   41.9136  \n",
      "1       0.0  219.5820  \n",
      "2       0.0    6.8714  \n",
      "\n",
      "[3 rows x 21 columns]\n",
      "*----------*----------*----------*----------*-----------*-----------*\n",
      "df_sales table shape:\n",
      "(9994, 21)\n",
      "*----------*----------*----------*----------*-----------*-----------*\n",
      "df_sales columns description:\n",
      "            Row ID                     Order Date  \\\n",
      "count  9994.000000                           9994   \n",
      "mean   4997.500000  2016-04-30 00:07:12.259355648   \n",
      "min       1.000000            2014-01-03 00:00:00   \n",
      "25%    2499.250000            2015-05-23 00:00:00   \n",
      "50%    4997.500000            2016-06-26 00:00:00   \n",
      "75%    7495.750000            2017-05-14 00:00:00   \n",
      "max    9994.000000            2017-12-30 00:00:00   \n",
      "std    2885.163629                            NaN   \n",
      "\n",
      "                           Ship Date   Postal Code         Sales     Quantity  \\\n",
      "count                           9994   9994.000000   9994.000000  9994.000000   \n",
      "mean   2016-05-03 23:06:58.571142912  55190.379428    229.858001     3.789574   \n",
      "min              2014-01-07 00:00:00   1040.000000      0.444000     1.000000   \n",
      "25%              2015-05-27 00:00:00  23223.000000     17.280000     2.000000   \n",
      "50%              2016-06-29 00:00:00  56430.500000     54.490000     3.000000   \n",
      "75%              2017-05-18 00:00:00  90008.000000    209.940000     5.000000   \n",
      "max              2018-01-05 00:00:00  99301.000000  22638.480000    14.000000   \n",
      "std                              NaN  32063.693350    623.245101     2.225110   \n",
      "\n",
      "          Discount       Profit  \n",
      "count  9994.000000  9994.000000  \n",
      "mean      0.156203    28.656896  \n",
      "min       0.000000 -6599.978000  \n",
      "25%       0.000000     1.728750  \n",
      "50%       0.200000     8.666500  \n",
      "75%       0.200000    29.364000  \n",
      "max       0.800000  8399.976000  \n",
      "std       0.206452   234.260108  \n",
      "*----------*----------*----------*----------*-----------*-----------*\n",
      "df_sales rows description:\n",
      "<class 'pandas.core.frame.DataFrame'>\n",
      "RangeIndex: 9994 entries, 0 to 9993\n",
      "Data columns (total 21 columns):\n",
      " #   Column         Non-Null Count  Dtype         \n",
      "---  ------         --------------  -----         \n",
      " 0   Row ID         9994 non-null   int64         \n",
      " 1   Order ID       9994 non-null   object        \n",
      " 2   Order Date     9994 non-null   datetime64[ns]\n",
      " 3   Ship Date      9994 non-null   datetime64[ns]\n",
      " 4   Ship Mode      9994 non-null   object        \n",
      " 5   Customer ID    9994 non-null   object        \n",
      " 6   Customer Name  9994 non-null   object        \n",
      " 7   Segment        9994 non-null   object        \n",
      " 8   Country        9994 non-null   object        \n",
      " 9   City           9994 non-null   object        \n",
      " 10  State          9994 non-null   object        \n",
      " 11  Postal Code    9994 non-null   int64         \n",
      " 12  Region         9994 non-null   object        \n",
      " 13  Product ID     9994 non-null   object        \n",
      " 14  Category       9994 non-null   object        \n",
      " 15  Sub-Category   9994 non-null   object        \n",
      " 16  Product Name   9994 non-null   object        \n",
      " 17  Sales          9994 non-null   float64       \n",
      " 18  Quantity       9994 non-null   int64         \n",
      " 19  Discount       9994 non-null   float64       \n",
      " 20  Profit         9994 non-null   float64       \n",
      "dtypes: datetime64[ns](2), float64(3), int64(3), object(13)\n",
      "memory usage: 1.6+ MB\n",
      "None\n"
     ]
    }
   ],
   "source": [
    "df_cities = pd.read_csv('uscities.csv')\n",
    "                                          #loading the data from csv and excel file\n",
    "df_sales = pd.read_excel('sales.xls')\n",
    "\n",
    "\n",
    "# printing the first 3 rows and some extra information(of my choice) for each dataframe \n",
    "print(\"First 3 rows of df_cities:\")\n",
    "print(df_cities.head(3))\n",
    "print(\"*----------*----------*----------*----------*-----------*-----------*\")\n",
    "print(\"df_cities table shape:\")\n",
    "print (df_cities.shape)\n",
    "print(\"*----------*----------*----------*----------*-----------*-----------*\")\n",
    "print(\"df_cities columns description:\")\n",
    "print(df_cities.describe()) \n",
    "print(\"*----------*----------*----------*----------*-----------*-----------*\")\n",
    "print(\"df_cities rows description:\")\n",
    "print(df_cities.info())\n",
    "print(\"First 3 rows of df_sales:\")\n",
    "print(df_sales.head(3))\n",
    "print(\"*----------*----------*----------*----------*-----------*-----------*\")\n",
    "print(\"df_sales table shape:\")\n",
    "print(df_sales.shape)\n",
    "print(\"*----------*----------*----------*----------*-----------*-----------*\")\n",
    "print(\"df_sales columns description:\")\n",
    "print(df_sales.describe())  \n",
    "print(\"*----------*----------*----------*----------*-----------*-----------*\")\n",
    "print(\"df_sales rows description:\")\n",
    "print(df_sales.info())\n"
   ]
  },
  {
   "cell_type": "markdown",
   "id": "8519b823",
   "metadata": {},
   "source": [
    "## 2. Pick the right container ##\n",
    "\n",
    "In this lab I am going to use a ***class*** instead of a dictionary or a tuple. It offers encapsulation for both data and behaviours including cleaning, parsing, computing, which makes it even better for future expansion/implementation."
   ]
  },
  {
   "cell_type": "markdown",
   "id": "c0fd1633",
   "metadata": {},
   "source": [
    "## Extra: Reduce Dimensionality"
   ]
  },
  {
   "cell_type": "markdown",
   "id": "a8258d9d",
   "metadata": {},
   "source": [
    "Since we have a lot of features which we do not actually need, a good standard is to drop some of the columns or as said in the machine learning language, reduce dimensionality."
   ]
  },
  {
   "cell_type": "code",
   "execution_count": 11,
   "id": "288d10d8",
   "metadata": {},
   "outputs": [],
   "source": [
    "df_cities = df_cities.drop(['state_name', 'city_ascii', 'military', 'incorporated', 'timezone', 'ranking', 'source'], axis=1)\n",
    "\n",
    "df_sales = df_sales.drop(['Customer Name', 'Country', 'Product Name'], axis=1)"
   ]
  },
  {
   "cell_type": "markdown",
   "id": "25407c71",
   "metadata": {},
   "source": [
    "## 3. Transaction Class and OO data structure"
   ]
  },
  {
   "cell_type": "code",
   "execution_count": null,
   "id": "0ef362d2",
   "metadata": {},
   "outputs": [],
   "source": [
    "class Transaction:\n",
    "    def __init__ (self, row):\n",
    "        self.order_id = row[\"Order ID\"]\n",
    "        self.order_date = row[\"Order Date\"]\n",
    "        self.ship_date = row[\"Ship Date\"]\n",
    "        self.customer_id = row[\"Customer ID\"]\n",
    "        self.product = row[\"Product ID\"]\n",
    "        self.price = row[\"Sales\"]\n",
    "        self.quantity = row[\"Quantity\"]\n",
    "        self.discount = row[\"Discount\"]\n",
    "        self.city = row[\"City\"]\n",
    "        self.clean()\n",
    "\n",
    "    def clean (self):\n",
    "        # convert date\n",
    "        if isinstance(self.order_date, str):\n",
    "            self.order_date = pd.to_datetime(self.order_date)\n",
    "        # make sure price and quantity type float and int\n",
    "        self.price = float(self.price)\n",
    "        self.quantity = int(self.quantity)\n",
    "        self.discount = float(self.discount)\n",
    "\n",
    "    def total(self):\n",
    "        return round(self.price * self.quantity * (1 - self.discount), 2)\n",
    "    \n",
    "class Cities:\n",
    "    def __init__(self, row):\n",
    "        self.city = row[\"city\"]\n",
    "        self.state_id = row[\"state_id\"]\n",
    "        self.state_name = row[\"state_name\"]\n",
    "        self.population = row[\"population\"]\n",
    "        self.lat = row[\"lat\"]\n",
    "        self.lng = row[\"lng\"]\n",
    "        self.military = row[\"military\"]\n",
    "        self.incorporated = row[\"incorporated\"]\n",
    "        self.timezone = row[\"timezone\"]\n",
    "        self.ranking = row[\"ranking\"]\n",
    "        self.source = row[\"source\"] "
   ]
  },
  {
   "cell_type": "markdown",
   "id": "3b96260e",
   "metadata": {},
   "source": [
    "## 4. Bulkloader"
   ]
  },
  {
   "cell_type": "code",
   "execution_count": null,
   "id": "fa9c48df",
   "metadata": {},
   "outputs": [
    {
     "name": "stdout",
     "output_type": "stream",
     "text": [
      "Loaded 9994 transactions\n"
     ]
    }
   ],
   "source": [
    "def load(df) -> list[Transaction]:\n",
    "    return [Transaction(row) for _, row in df.iterrows()]\n",
    "\n",
    "transactions = load(df_sales)\n",
    "print(f\"Loaded {len(transactions)} transactions\")\n",
    "\n",
    "def load_cities(df) -> list[Cities]:\n",
    "    return [Cities(row) for _, row in df.iterrows()]    "
   ]
  },
  {
   "cell_type": "markdown",
   "id": "fc4f04cb",
   "metadata": {},
   "source": [
    "## 5. Quick Profiling"
   ]
  },
  {
   "cell_type": "code",
   "execution_count": 51,
   "id": "281dfa69",
   "metadata": {},
   "outputs": [
    {
     "name": "stdout",
     "output_type": "stream",
     "text": [
      "Total Price: 2297200.8603\n",
      "Minimal Price: 0.44399999999999995\n",
      "Mean Price: 229.85800083049827\n",
      "Max Price: 22638.48\n",
      "Unique shipping cities: 531\n"
     ]
    }
   ],
   "source": [
    "prices = [t.price for t in transactions]\n",
    "cities = set(t.city for t in transactions)\n",
    "print(f\"Total Price: {sum(prices)}\")\n",
    "print(f\"Minimal Price: {min(prices)}\")\n",
    "print(f\"Mean Price: {sum(prices)/len(prices)}\")\n",
    "print(f\"Max Price: {max(prices)}\")\n",
    "print(f\"Unique shipping cities: {len(cities)}\")"
   ]
  },
  {
   "cell_type": "markdown",
   "id": "0ae9a133",
   "metadata": {},
   "source": [
    "## 6. Spot the Grime"
   ]
  },
  {
   "cell_type": "code",
   "execution_count": 52,
   "id": "2fee0ced",
   "metadata": {},
   "outputs": [
    {
     "name": "stdout",
     "output_type": "stream",
     "text": [
      "Checking for negative prices: False\n",
      "Checking for missing city: False\n",
      "Checking for invalid quantity: False\n"
     ]
    }
   ],
   "source": [
    "print(\"Checking for negative prices:\", any(t.price < 0 for t in transactions))\n",
    "print(\"Checking for missing city:\", any(t.city == \"\" for t in transactions))\n",
    "print(\"Checking for invalid quantity:\", any(t.quantity <= 0 for t in transactions))"
   ]
  },
  {
   "cell_type": "markdown",
   "id": "47070e7e",
   "metadata": {},
   "source": [
    "## 7. Cleaning Rules"
   ]
  },
  {
   "cell_type": "code",
   "execution_count": 53,
   "id": "2412345a",
   "metadata": {},
   "outputs": [
    {
     "name": "stdout",
     "output_type": "stream",
     "text": [
      "Before cleaning: 9994\n",
      "After cleaning: 9994\n",
      "The data is already clean, no need to remove any rows.\n"
     ]
    }
   ],
   "source": [
    "beforeCount = len(transactions)\n",
    "transactions = [t for t in transactions if t.price >= 0 and t.quantity > 0 and t.city != \"\"]\n",
    "afterCount = len(transactions)\n",
    "print(f\"Before cleaning: {beforeCount}\")\n",
    "print(f\"After cleaning: {afterCount}\")\n",
    "\n",
    "if beforeCount == afterCount:\n",
    "    print(\"The data is already clean, no need to remove any rows.\")"
   ]
  },
  {
   "cell_type": "markdown",
   "id": "f66eaf9d",
   "metadata": {},
   "source": [
    "## 8. Transformations"
   ]
  },
  {
   "cell_type": "code",
   "execution_count": 54,
   "id": "ba359e8d",
   "metadata": {},
   "outputs": [
    {
     "name": "stdout",
     "output_type": "stream",
     "text": [
      "Discount values have been converted to percentage.\n"
     ]
    }
   ],
   "source": [
    "for t in transactions:\n",
    "    t.discount1 = t.discount * 100\n",
    "print(\"Discount values have been converted to percentage.\")"
   ]
  },
  {
   "cell_type": "markdown",
   "id": "cf56a230",
   "metadata": {},
   "source": [
    "## 9. Feature Engineering"
   ]
  },
  {
   "cell_type": "code",
   "execution_count": 55,
   "id": "867dfd02",
   "metadata": {},
   "outputs": [
    {
     "name": "stdout",
     "output_type": "stream",
     "text": [
      "Order and ship dates have been converted to datetime objects.\n"
     ]
    }
   ],
   "source": [
    "for t in transactions:\n",
    "    if isinstance(t.order_date, str):\n",
    "        t.order_date = pd.to_datetime(t.order_date)\n",
    "\n",
    "    if isinstance(t.ship_date, str):\n",
    "        t.ship_date = pd.to_datetime(t.ship_date)\n",
    "\n",
    "print(\"Order and ship dates have been converted to datetime objects.\")"
   ]
  },
  {
   "cell_type": "markdown",
   "id": "08eb971b",
   "metadata": {},
   "source": [
    "## 8.2. Transformation 2 \n",
    "Done down here because we firstly had to convert the date into datetime format using the Timestamp library"
   ]
  },
  {
   "cell_type": "code",
   "execution_count": 60,
   "id": "f5904b60",
   "metadata": {},
   "outputs": [
    {
     "name": "stdout",
     "output_type": "stream",
     "text": [
      "Processing time has been calculated for each transaction.\n"
     ]
    }
   ],
   "source": [
    "for t in transactions:\n",
    "    t.processingTime = (t.ship_date - t.order_date).days\n",
    "\n",
    "print(\"Processing time has been calculated for each transaction.\")\n",
    "   "
   ]
  },
  {
   "cell_type": "markdown",
   "id": "a9e32c96",
   "metadata": {},
   "source": [
    "## 10. Mini-Aggregation"
   ]
  },
  {
   "cell_type": "code",
   "execution_count": 61,
   "id": "364c0c68",
   "metadata": {},
   "outputs": [
    {
     "name": "stdout",
     "output_type": "stream",
     "text": [
      "Top 5 Cities by Revenue:\n",
      "New York City: $1167991.6800000002\n",
      "Los Angeles: $765588.9899999994\n",
      "Seattle: $557065.6400000004\n",
      "San Francisco: $479247.78\n",
      "Philadelphia: $380496.1100000001\n"
     ]
    }
   ],
   "source": [
    "cityRevenue = defaultdict(float)\n",
    "for t in transactions:\n",
    "    cityRevenue[t.city] += t.total()\n",
    "\n",
    "# display top 5 cities by revenue\n",
    "sortedRevenue = sorted(cityRevenue.items(), key=lambda x: x[1], reverse=True)\n",
    "print(\"Top 5 Cities by Revenue:\")\n",
    "for city, revenue in sortedRevenue[:5]:\n",
    "    print(f\"{city}: ${revenue}\")"
   ]
  },
  {
   "cell_type": "markdown",
   "id": "70d5fa0f",
   "metadata": {},
   "source": [
    "## 11. Serialization Checkpoint"
   ]
  },
  {
   "cell_type": "code",
   "execution_count": 62,
   "id": "02d26dbb",
   "metadata": {},
   "outputs": [
    {
     "name": "stdout",
     "output_type": "stream",
     "text": [
      "Cleaned transaction data has been saved to 'cleaned.json'\n",
      "Cleaned transaction data has been saved to 'cleaned1.parquet'\n"
     ]
    }
   ],
   "source": [
    "cleaned_data = [\n",
    "    {\n",
    "        \"Order ID\": t.order_id,\n",
    "        \"Product\": t.product,\n",
    "        \"Unit Price\": t.price,\n",
    "        \"Quantity\": t.quantity,\n",
    "        \"Discount Code\": t.discount,\n",
    "        \"Discount (%)\": t.discount1,\n",
    "        \"Total Amount\": t.total(),\n",
    "        \"Days Since Purchase\": t.processingTime,\n",
    "        \"Shipping City\": t.city\n",
    "    }\n",
    "    for t in transactions\n",
    "]\n",
    "\n",
    "with open(\"cleaned.json\", \"w\") as f:\n",
    "    json.dump(cleaned_data, f, indent=2)\n",
    "\n",
    "print(\"Cleaned transaction data has been saved to 'cleaned.json'\")\n",
    "\n",
    "table = pa.Table.from_pandas(pd.DataFrame(cleaned_data))\n",
    "pq.write_table(table, \"cleaned1.parquet\")\n",
    "\n",
    "print(\"Cleaned transaction data has been saved to 'cleaned1.parquet'\")\n"
   ]
  },
  {
   "cell_type": "markdown",
   "id": "f4525045",
   "metadata": {},
   "source": [
    "## 12. Soft Interview Reflection"
   ]
  },
  {
   "cell_type": "markdown",
   "id": "8042600a",
   "metadata": {},
   "source": [
    "Using Object-Oriented Programming (OOP) was a game-changer for this project. It let me wrap up all the related actions and logic neatly inside classes, which meant I could easily reuse them whenever I needed to. This saved a lot of time and effort down the line.\n",
    "Another big win for using classes was how much cleaner and more organized the code became. Instead of having to repeat the same steps over and over to clean, change, and improve each piece of data, the class structure kept everything tidy. It made handling all those transactions much smoother and kept the whole system easy to manage."
   ]
  },
  {
   "cell_type": "markdown",
   "id": "71992c41",
   "metadata": {},
   "source": [
    "## Data Dictionary"
   ]
  },
  {
   "cell_type": "code",
   "execution_count": 64,
   "id": "7828e73a",
   "metadata": {},
   "outputs": [
    {
     "name": "stdout",
     "output_type": "stream",
     "text": [
      "+----+----------------+----------+---------------------------------------------------+---------------------------+\n",
      "|    | Field          | Type     | Description                                       | Source                    |\n",
      "+====+================+==========+===================================================+===========================+\n",
      "|  0 | order_id       | String   | Unique identifier for each order                  | sales.xls                 |\n",
      "+----+----------------+----------+---------------------------------------------------+---------------------------+\n",
      "|  1 | product        | String   | Name or category of the product purchased         | sales.xls                 |\n",
      "+----+----------------+----------+---------------------------------------------------+---------------------------+\n",
      "|  2 | price          | Float    | Selling price of a single product unit            | sales.xls                 |\n",
      "+----+----------------+----------+---------------------------------------------------+---------------------------+\n",
      "|  3 | quantity       | Integer  | Number of units purchased in the order            | sales.xls                 |\n",
      "+----+----------------+----------+---------------------------------------------------+---------------------------+\n",
      "|  4 | discount       | String   | Promo code or discount tag applied                | sales.xls                 |\n",
      "+----+----------------+----------+---------------------------------------------------+---------------------------+\n",
      "|  5 | discount1      | Float    | Discount percentage parsed from the promo code    | derived                   |\n",
      "+----+----------------+----------+---------------------------------------------------+---------------------------+\n",
      "|  6 | total          | Float    | Total amount after applying quantity and discount | calculated                |\n",
      "+----+----------------+----------+---------------------------------------------------+---------------------------+\n",
      "|  7 | dayCount       | Integer  | Number of days since the transaction took place   | derived                   |\n",
      "+----+----------------+----------+---------------------------------------------------+---------------------------+\n",
      "|  8 | city           | String   | Shipping city for the order                       | sales.xls                 |\n",
      "+----+----------------+----------+---------------------------------------------------+---------------------------+\n",
      "|  9 | order_date     | DateTime | Date when the order was placed                    | sales.xls                 |\n",
      "+----+----------------+----------+---------------------------------------------------+---------------------------+\n",
      "| 10 | ship_date      | DateTime | Date when the order was shipped                   | sales.xls                 |\n",
      "+----+----------------+----------+---------------------------------------------------+---------------------------+\n",
      "| 11 | processingTime | Integer  | Number of days taken to process the order         | derived                   |\n",
      "+----+----------------+----------+---------------------------------------------------+---------------------------+\n",
      "| 12 | state_id       | String   | Two-letter abbreviation of the U.S. state         | derived from uscities.csv |\n",
      "+----+----------------+----------+---------------------------------------------------+---------------------------+\n",
      "| 13 | lat            | Float    | Latitude coordinate of the shipping city          | derived from uscities.csv |\n",
      "+----+----------------+----------+---------------------------------------------------+---------------------------+\n",
      "| 14 | lng            | Float    | Longitude coordinate of the shipping city         | derived from uscities.csv |\n",
      "+----+----------------+----------+---------------------------------------------------+---------------------------+\n",
      "| 15 | population     | Integer  | Approximate population of the shipping city       | derived from uscities.csv |\n",
      "+----+----------------+----------+---------------------------------------------------+---------------------------+\n",
      "| 16 | state_id       | String   | Two-letter abbreviation of the U.S. state         | uscities.csv              |\n",
      "+----+----------------+----------+---------------------------------------------------+---------------------------+\n",
      "| 17 | lat            | Float    | Latitude coordinate of the shipping city          | uscities.csv              |\n",
      "+----+----------------+----------+---------------------------------------------------+---------------------------+\n",
      "| 18 | lng            | Float    | Longitude coordinate of the shipping city         | uscities.csv              |\n",
      "+----+----------------+----------+---------------------------------------------------+---------------------------+\n",
      "| 19 | population     | Integer  | Approximate population of the shipping city       | uscities.csv              |\n",
      "+----+----------------+----------+---------------------------------------------------+---------------------------+\n"
     ]
    }
   ],
   "source": [
    "data = [\n",
    "    [\"order_id\", \"String\", \"Unique identifier for each order\", \"sales.xls\"],\n",
    "    [\"product\", \"String\", \"Name or category of the product purchased\", \"sales.xls\"],\n",
    "    [\"price\", \"Float\", \"Selling price of a single product unit\", \"sales.xls\"],\n",
    "    [\"quantity\", \"Integer\", \"Number of units purchased in the order\", \"sales.xls\"],\n",
    "    [\"discount\", \"String\", \"Promo code or discount tag applied\", \"sales.xls\"],\n",
    "    [\"discount1\", \"Float\", \"Discount percentage parsed from the promo code\", \"derived\"],\n",
    "    [\"total\", \"Float\", \"Total amount after applying quantity and discount\", \"calculated\"],\n",
    "    [\"dayCount\", \"Integer\", \"Number of days since the transaction took place\", \"derived\"],\n",
    "    [\"city\", \"String\", \"Shipping city for the order\", \"sales.xls\"],\n",
    "    [\"order_date\", \"DateTime\", \"Date when the order was placed\", \"sales.xls\"],\n",
    "    [\"ship_date\", \"DateTime\", \"Date when the order was shipped\", \"sales.xls\"],\n",
    "    [\"processingTime\", \"Integer\", \"Number of days taken to process the order\", \"derived\"],\n",
    "    [\"state_id\", \"String\", \"Two-letter abbreviation of the U.S. state\", \"derived from uscities.csv\"],\n",
    "    [\"lat\", \"Float\", \"Latitude coordinate of the shipping city\", \"derived from uscities.csv\"],\n",
    "    [\"lng\", \"Float\", \"Longitude coordinate of the shipping city\", \"derived from uscities.csv\"],\n",
    "    [\"population\", \"Integer\", \"Approximate population of the shipping city\", \"derived from uscities.csv\"],\n",
    "    [\"state_id\", \"String\", \"Two-letter abbreviation of the U.S. state\", \"uscities.csv\"],\n",
    "    [\"lat\", \"Float\", \"Latitude coordinate of the shipping city\", \"uscities.csv\"],\n",
    "    [\"lng\", \"Float\", \"Longitude coordinate of the shipping city\", \"uscities.csv\"],\n",
    "    [\"population\", \"Integer\", \"Approximate population of the shipping city\", \"uscities.csv\"],\n",
    "]\n",
    "\n",
    "\n",
    "df_table = pd.DataFrame(data, columns=[\"Field\", \"Type\", \"Description\", \"Source\"])\n",
    "\n",
    "print(tt.tabulate(df_table, headers='keys', tablefmt='grid'))\n"
   ]
  },
  {
   "cell_type": "markdown",
   "id": "0ad89161",
   "metadata": {},
   "source": [
    "Here is the version of it as a Markdown: "
   ]
  },
  {
   "cell_type": "markdown",
   "id": "3682c317",
   "metadata": {},
   "source": [
    "___________________________________________________________________________________________________________________\n",
    "| #   | Field          | Type     | Description                                       | Source                    |\n",
    "|-----|----------------|----------|---------------------------------------------------|---------------------------|\n",
    "| 0   | order_id       | String   | Unique identifier for each order                  | sales.xls                 |\n",
    "| 1   | product        | String   | Name or category of the product purchased         | sales.xls                 |\n",
    "| 2   | price          | Float    | Selling price of a single product unit            | sales.xls                 |\n",
    "| 3   | quantity       | Integer  | Number of units purchased in the order            | sales.xls                 |\n",
    "| 4   | discount       | String   | Promo code or discount tag applied                | sales.xls                 |\n",
    "| 5   | discount1      | Float    | Discount percentage parsed from the promo code    | derived                   |\n",
    "| 6   | total          | Float    | Total amount after applying quantity and discount | calculated                |\n",
    "| 7   | dayCount       | Integer  | Number of days since the transaction took place   | derived                   |\n",
    "| 8   | city           | String   | Shipping city for the order                       | sales.xls                 |\n",
    "| 9   | order_date     | DateTime | Date when the order was placed                    | sales.xls                 |\n",
    "| 10  | ship_date      | DateTime | Date when the order was shipped                   | sales.xls                 |\n",
    "| 11  | processingTime | Integer  | Number of days taken to process the order         | derived                   |\n",
    "| 12  | state_id       | String   | Two-letter abbreviation of the U.S. state         | derived from uscities.csv |\n",
    "| 13  | lat            | Float    | Latitude coordinate of the shipping city          | derived from uscities.csv |\n",
    "| 14  | lng            | Float    | Longitude coordinate of the shipping city         | derived from uscities.csv |\n",
    "| 15  | population     | Integer  | Approximate population of the shipping city       | derived from uscities.csv |\n",
    "| 16  | state_id       | String   | Two-letter abbreviation of the U.S. state         | uscities.csv              |\n",
    "| 17  | lat            | Float    | Latitude coordinate of the shipping city          | uscities.csv              |\n",
    "| 18  | lng            | Float    | Longitude coordinate of the shipping city         | uscities.csv              |\n",
    "| 19  | population     | Integer  | Approximate population of the shipping city       | uscities.csv              |\n",
    "-------------------------------------------------------------------------------------------------------------------\n"
   ]
  }
 ],
 "metadata": {
  "kernelspec": {
   "display_name": "base",
   "language": "python",
   "name": "python3"
  },
  "language_info": {
   "codemirror_mode": {
    "name": "ipython",
    "version": 3
   },
   "file_extension": ".py",
   "mimetype": "text/x-python",
   "name": "python",
   "nbconvert_exporter": "python",
   "pygments_lexer": "ipython3",
   "version": "3.12.2"
  }
 },
 "nbformat": 4,
 "nbformat_minor": 5
}
